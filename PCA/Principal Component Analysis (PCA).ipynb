{
 "cells": [
  {
   "cell_type": "markdown",
   "metadata": {
    "slideshow": {
     "slide_type": "slide"
    }
   },
   "source": [
    "# Understand what PCA does"
   ]
  },
  {
   "cell_type": "markdown",
   "metadata": {
    "slideshow": {
     "slide_type": "fragment"
    }
   },
   "source": [
    "Aims of PCA:\n",
    "* Reduce dimensionality (number of features)\n",
    "* without wasting too much information"
   ]
  },
  {
   "cell_type": "markdown",
   "metadata": {
    "slideshow": {
     "slide_type": "slide"
    }
   },
   "source": [
    "To understand what PCA does, we are going to illustrate it on the following simple 2D dataset."
   ]
  },
  {
   "cell_type": "code",
   "execution_count": 2,
   "metadata": {
    "scrolled": true,
    "slideshow": {
     "slide_type": "fragment"
    }
   },
   "outputs": [
    {
     "data": {
      "image/png": "[encoded data removed]",
      "text/plain": [
       "<Figure size 360x360 with 1 Axes>"
      ]
     },
     "metadata": {
      "needs_background": "light"
     },
     "output_type": "display_data"
    }
   ],
   "source": [
    "# Generate random 2D dataset distributed along identity line\n",
    "import numpy as np\n",
    "from matplotlib import pyplot as plt\n",
    "\n",
    "plt.figure(figsize=(5,5))\n",
    "n = 10\n",
    "x0 = np.arange(0, 1, 1/n)\n",
    "p = np.random.normal(size=n)*1/20\n",
    "y = x0 + p\n",
    "x = x0 - p\n",
    "\n",
    "# Center x and y\n",
    "x = x - np.mean(x)\n",
    "y = y - np.mean(y)\n",
    "\n",
    "# Plot dataset and identity line\n",
    "plt.scatter(x, y)\n",
    "plt.plot(x, x, color='orange')\n",
    "plt.xlim(-0.5, 0.5)\n",
    "plt.ylim(-0.5, 0.5)\n",
    "\n",
    "plt.show()"
   ]
  },
  {
   "cell_type": "markdown",
   "metadata": {
    "slideshow": {
     "slide_type": "slide"
    }
   },
   "source": [
    "## Compute principal axes"
   ]
  },
  {
   "cell_type": "markdown",
   "metadata": {
    "slideshow": {
     "slide_type": "fragment"
    }
   },
   "source": [
    "sklearn provides an implementation of PCA, documented [here](https://scikit-learn.org/stable/modules/generated/sklearn.decomposition.PCA.html):"
   ]
  },
  {
   "cell_type": "code",
   "execution_count": 3,
   "metadata": {
    "slideshow": {
     "slide_type": "fragment"
    }
   },
   "outputs": [
    {
     "data": {
      "text/plain": [
       "PCA()"
      ]
     },
     "execution_count": 3,
     "metadata": {},
     "output_type": "execute_result"
    }
   ],
   "source": [
    "# Do PCA using sklearn\n",
    "\n",
    "from sklearn.decomposition import PCA\n",
    "A = np.c_[x, y]\n",
    "pca_2d = PCA()\n",
    "pca_2d.fit(A)"
   ]
  },
  {
   "cell_type": "markdown",
   "metadata": {
    "slideshow": {
     "slide_type": "fragment"
    }
   },
   "source": [
    "PCA finds \"components\" in the data:"
   ]
  },
  {
   "cell_type": "code",
   "execution_count": 4,
   "metadata": {
    "slideshow": {
     "slide_type": "fragment"
    }
   },
   "outputs": [
    {
     "data": {
      "text/plain": [
       "array([[-0.67022794, -0.74215531],\n",
       "       [-0.74215531,  0.67022794]])"
      ]
     },
     "execution_count": 4,
     "metadata": {},
     "output_type": "execute_result"
    }
   ],
   "source": [
    "# Plot components\n",
    "pca_2d.components_"
   ]
  },
  {
   "cell_type": "markdown",
   "metadata": {
    "slideshow": {
     "slide_type": "slide"
    }
   },
   "source": [
    "The components are vectors along which the variance of the data is maximal:"
   ]
  },
  {
   "cell_type": "code",
   "execution_count": 5,
   "metadata": {
    "slideshow": {
     "slide_type": "fragment"
    }
   },
   "outputs": [
    {
     "data": {
      "text/plain": [
       "(-0.5, 0.5)"
      ]
     },
     "execution_count": 5,
     "metadata": {},
     "output_type": "execute_result"
    },
    {
     "data": {
      "image/png": "[encoded data removed]",
      "text/plain": [
       "<Figure size 360x360 with 1 Axes>"
      ]
     },
     "metadata": {
      "needs_background": "light"
     },
     "output_type": "display_data"
    }
   ],
   "source": [
    "origin = (0, 0)\n",
    "plt.figure(figsize=(5,5))\n",
    "\n",
    "# Plot first component\n",
    "plt.clf()\n",
    "plt.plot(x, x, color='orange')\n",
    "plt.arrow(origin[0], origin[1], pca_2d.components_[0][0]/2, pca_2d.components_[0][1]/2, width=0.01, color='red')\n",
    "plt.arrow(origin[0], origin[1], pca_2d.components_[1][0]/2, pca_2d.components_[1][1]/2, width=0.01, color='red')\n",
    "plt.scatter(x, y)\n",
    "plt.xlim(-0.5, 0.5)\n",
    "plt.ylim(-0.5, 0.5)"
   ]
  },
  {
   "cell_type": "markdown",
   "metadata": {
    "slideshow": {
     "slide_type": "fragment"
    }
   },
   "source": [
    "Each component describes a fraction of the variance in the dataset:"
   ]
  },
  {
   "cell_type": "code",
   "execution_count": 6,
   "metadata": {
    "slideshow": {
     "slide_type": "fragment"
    }
   },
   "outputs": [
    {
     "data": {
      "text/plain": [
       "array([0.968806, 0.031194])"
      ]
     },
     "execution_count": 6,
     "metadata": {},
     "output_type": "execute_result"
    }
   ],
   "source": [
    "pca_2d.explained_variance_ratio_"
   ]
  },
  {
   "cell_type": "markdown",
   "metadata": {
    "slideshow": {
     "slide_type": "fragment"
    }
   },
   "source": [
    "The second component explains less than 5% of the data variance, it doesn't look so useful!"
   ]
  },
  {
   "cell_type": "markdown",
   "metadata": {
    "slideshow": {
     "slide_type": "slide"
    }
   },
   "source": [
    "The same idea can be applied to arbitrary datasets, in arbitrary dimensions!"
   ]
  },
  {
   "cell_type": "markdown",
   "metadata": {
    "slideshow": {
     "slide_type": "fragment"
    }
   },
   "source": [
    "<img src=\"https://upload.wikimedia.org/wikipedia/commons/9/90/PCA_fish.png\" width=800/>"
   ]
  },
  {
   "cell_type": "markdown",
   "metadata": {
    "slideshow": {
     "slide_type": "slide"
    }
   },
   "source": [
    "## Transform dataset"
   ]
  },
  {
   "cell_type": "markdown",
   "metadata": {
    "slideshow": {
     "slide_type": "fragment"
    }
   },
   "source": [
    "The principal axes define a linear transformation from the native dataset space to the orthogonal frame defined by the eigenvectors:"
   ]
  },
  {
   "cell_type": "code",
   "execution_count": 7,
   "metadata": {
    "slideshow": {
     "slide_type": "fragment"
    }
   },
   "outputs": [],
   "source": [
    "transformed_data_2d = pca_2d.fit_transform(np.c_[x, y])"
   ]
  },
  {
   "cell_type": "code",
   "execution_count": 8,
   "metadata": {
    "scrolled": false,
    "slideshow": {
     "slide_type": "fragment"
    }
   },
   "outputs": [
    {
     "data": {
      "image/png": "[encoded data removed]",
      "text/plain": [
       "<Figure size 432x288 with 1 Axes>"
      ]
     },
     "metadata": {
      "needs_background": "light"
     },
     "output_type": "display_data"
    }
   ],
   "source": [
    "plt.scatter(transformed_data_2d[:,0], transformed_data_2d[:,1])\n",
    "plt.xlim(-1, 1)\n",
    "plt.ylim(-1, 1)\n",
    "plt.show()"
   ]
  },
  {
   "cell_type": "markdown",
   "metadata": {
    "slideshow": {
     "slide_type": "slide"
    }
   },
   "source": [
    "## Reduce dimensionality\n",
    "\n",
    "Dimensionality reduction is achieved by removing (zeroing) the dimensions that explain the least amount of variance. In our simple example, the second dimension explains less than 5% of the total variance. "
   ]
  },
  {
   "cell_type": "markdown",
   "metadata": {
    "slideshow": {
     "slide_type": "fragment"
    }
   },
   "source": [
    "We may therefore decide to drop this second dimension, which in this case reduces data dimensionality by 2 $\\times$:"
   ]
  },
  {
   "cell_type": "code",
   "execution_count": 9,
   "metadata": {
    "slideshow": {
     "slide_type": "fragment"
    }
   },
   "outputs": [
    {
     "data": {
      "text/plain": [
       "(-1.0, 1.0)"
      ]
     },
     "execution_count": 9,
     "metadata": {},
     "output_type": "execute_result"
    },
    {
     "data": {
      "image/png": "[encoded data removed]",
      "text/plain": [
       "<Figure size 432x288 with 1 Axes>"
      ]
     },
     "metadata": {
      "needs_background": "light"
     },
     "output_type": "display_data"
    }
   ],
   "source": [
    "# Drop second dimension\n",
    "reduced_data = transformed_data_2d[:,0]\n",
    "plt.scatter(reduced_data, np.zeros(len(reduced_data)))\n",
    "plt.xlim(-1, 1)\n",
    "plt.ylim(-1, 1)"
   ]
  },
  {
   "cell_type": "markdown",
   "metadata": {
    "slideshow": {
     "slide_type": "slide"
    }
   },
   "source": [
    "## Decorrelation\n",
    "\n",
    "\n",
    "As a bonus, PCA decorrelates the features, which can help some classifiers:"
   ]
  },
  {
   "cell_type": "code",
   "execution_count": 10,
   "metadata": {
    "slideshow": {
     "slide_type": "fragment"
    }
   },
   "outputs": [
    {
     "data": {
      "text/plain": [
       "0.796299095933507"
      ]
     },
     "execution_count": 10,
     "metadata": {},
     "output_type": "execute_result"
    }
   ],
   "source": [
    "# Original features are correlated\n",
    "np.dot(A[:,0], A[:,1])"
   ]
  },
  {
   "cell_type": "code",
   "execution_count": 11,
   "metadata": {
    "slideshow": {
     "slide_type": "fragment"
    }
   },
   "outputs": [
    {
     "data": {
      "text/plain": [
       "2.006799654482259e-17"
      ]
     },
     "execution_count": 11,
     "metadata": {},
     "output_type": "execute_result"
    }
   ],
   "source": [
    "# Features produced by PCA are decorrelated\n",
    "np.dot(transformed_data_2d[:,0], transformed_data_2d[:,1])"
   ]
  },
  {
   "cell_type": "markdown",
   "metadata": {
    "slideshow": {
     "slide_type": "slide"
    }
   },
   "source": [
    "# Apply PCA to a real dataset\n",
    "\n",
    "Let's import a dataset from sklearn examples:"
   ]
  },
  {
   "cell_type": "code",
   "execution_count": 12,
   "metadata": {
    "scrolled": true,
    "slideshow": {
     "slide_type": "fragment"
    }
   },
   "outputs": [
    {
     "data": {
      "text/html": [
       "<div>\n",
       "<style scoped>\n",
       "    .dataframe tbody tr th:only-of-type {\n",
       "        vertical-align: middle;\n",
       "    }\n",
       "\n",
       "    .dataframe tbody tr th {\n",
       "        vertical-align: top;\n",
       "    }\n",
       "\n",
       "    .dataframe thead th {\n",
       "        text-align: right;\n",
       "    }\n",
       "</style>\n",
       "<table border=\"1\" class=\"dataframe\">\n",
       "  <thead>\n",
       "    <tr style=\"text-align: right;\">\n",
       "      <th></th>\n",
       "      <th>alcohol</th>\n",
       "      <th>malic_acid</th>\n",
       "      <th>ash</th>\n",
       "      <th>alcalinity_of_ash</th>\n",
       "      <th>magnesium</th>\n",
       "      <th>total_phenols</th>\n",
       "      <th>flavanoids</th>\n",
       "      <th>nonflavanoid_phenols</th>\n",
       "      <th>proanthocyanins</th>\n",
       "      <th>color_intensity</th>\n",
       "      <th>hue</th>\n",
       "      <th>od280/od315_of_diluted_wines</th>\n",
       "      <th>proline</th>\n",
       "    </tr>\n",
       "  </thead>\n",
       "  <tbody>\n",
       "    <tr>\n",
       "      <th>0</th>\n",
       "      <td>14.23</td>\n",
       "      <td>1.71</td>\n",
       "      <td>2.43</td>\n",
       "      <td>15.6</td>\n",
       "      <td>127.0</td>\n",
       "      <td>2.80</td>\n",
       "      <td>3.06</td>\n",
       "      <td>0.28</td>\n",
       "      <td>2.29</td>\n",
       "      <td>5.64</td>\n",
       "      <td>1.04</td>\n",
       "      <td>3.92</td>\n",
       "      <td>1065.0</td>\n",
       "    </tr>\n",
       "    <tr>\n",
       "      <th>1</th>\n",
       "      <td>13.20</td>\n",
       "      <td>1.78</td>\n",
       "      <td>2.14</td>\n",
       "      <td>11.2</td>\n",
       "      <td>100.0</td>\n",
       "      <td>2.65</td>\n",
       "      <td>2.76</td>\n",
       "      <td>0.26</td>\n",
       "      <td>1.28</td>\n",
       "      <td>4.38</td>\n",
       "      <td>1.05</td>\n",
       "      <td>3.40</td>\n",
       "      <td>1050.0</td>\n",
       "    </tr>\n",
       "    <tr>\n",
       "      <th>2</th>\n",
       "      <td>13.16</td>\n",
       "      <td>2.36</td>\n",
       "      <td>2.67</td>\n",
       "      <td>18.6</td>\n",
       "      <td>101.0</td>\n",
       "      <td>2.80</td>\n",
       "      <td>3.24</td>\n",
       "      <td>0.30</td>\n",
       "      <td>2.81</td>\n",
       "      <td>5.68</td>\n",
       "      <td>1.03</td>\n",
       "      <td>3.17</td>\n",
       "      <td>1185.0</td>\n",
       "    </tr>\n",
       "    <tr>\n",
       "      <th>3</th>\n",
       "      <td>14.37</td>\n",
       "      <td>1.95</td>\n",
       "      <td>2.50</td>\n",
       "      <td>16.8</td>\n",
       "      <td>113.0</td>\n",
       "      <td>3.85</td>\n",
       "      <td>3.49</td>\n",
       "      <td>0.24</td>\n",
       "      <td>2.18</td>\n",
       "      <td>7.80</td>\n",
       "      <td>0.86</td>\n",
       "      <td>3.45</td>\n",
       "      <td>1480.0</td>\n",
       "    </tr>\n",
       "    <tr>\n",
       "      <th>4</th>\n",
       "      <td>13.24</td>\n",
       "      <td>2.59</td>\n",
       "      <td>2.87</td>\n",
       "      <td>21.0</td>\n",
       "      <td>118.0</td>\n",
       "      <td>2.80</td>\n",
       "      <td>2.69</td>\n",
       "      <td>0.39</td>\n",
       "      <td>1.82</td>\n",
       "      <td>4.32</td>\n",
       "      <td>1.04</td>\n",
       "      <td>2.93</td>\n",
       "      <td>735.0</td>\n",
       "    </tr>\n",
       "    <tr>\n",
       "      <th>...</th>\n",
       "      <td>...</td>\n",
       "      <td>...</td>\n",
       "      <td>...</td>\n",
       "      <td>...</td>\n",
       "      <td>...</td>\n",
       "      <td>...</td>\n",
       "      <td>...</td>\n",
       "      <td>...</td>\n",
       "      <td>...</td>\n",
       "      <td>...</td>\n",
       "      <td>...</td>\n",
       "      <td>...</td>\n",
       "      <td>...</td>\n",
       "    </tr>\n",
       "    <tr>\n",
       "      <th>173</th>\n",
       "      <td>13.71</td>\n",
       "      <td>5.65</td>\n",
       "      <td>2.45</td>\n",
       "      <td>20.5</td>\n",
       "      <td>95.0</td>\n",
       "      <td>1.68</td>\n",
       "      <td>0.61</td>\n",
       "      <td>0.52</td>\n",
       "      <td>1.06</td>\n",
       "      <td>7.70</td>\n",
       "      <td>0.64</td>\n",
       "      <td>1.74</td>\n",
       "      <td>740.0</td>\n",
       "    </tr>\n",
       "    <tr>\n",
       "      <th>174</th>\n",
       "      <td>13.40</td>\n",
       "      <td>3.91</td>\n",
       "      <td>2.48</td>\n",
       "      <td>23.0</td>\n",
       "      <td>102.0</td>\n",
       "      <td>1.80</td>\n",
       "      <td>0.75</td>\n",
       "      <td>0.43</td>\n",
       "      <td>1.41</td>\n",
       "      <td>7.30</td>\n",
       "      <td>0.70</td>\n",
       "      <td>1.56</td>\n",
       "      <td>750.0</td>\n",
       "    </tr>\n",
       "    <tr>\n",
       "      <th>175</th>\n",
       "      <td>13.27</td>\n",
       "      <td>4.28</td>\n",
       "      <td>2.26</td>\n",
       "      <td>20.0</td>\n",
       "      <td>120.0</td>\n",
       "      <td>1.59</td>\n",
       "      <td>0.69</td>\n",
       "      <td>0.43</td>\n",
       "      <td>1.35</td>\n",
       "      <td>10.20</td>\n",
       "      <td>0.59</td>\n",
       "      <td>1.56</td>\n",
       "      <td>835.0</td>\n",
       "    </tr>\n",
       "    <tr>\n",
       "      <th>176</th>\n",
       "      <td>13.17</td>\n",
       "      <td>2.59</td>\n",
       "      <td>2.37</td>\n",
       "      <td>20.0</td>\n",
       "      <td>120.0</td>\n",
       "      <td>1.65</td>\n",
       "      <td>0.68</td>\n",
       "      <td>0.53</td>\n",
       "      <td>1.46</td>\n",
       "      <td>9.30</td>\n",
       "      <td>0.60</td>\n",
       "      <td>1.62</td>\n",
       "      <td>840.0</td>\n",
       "    </tr>\n",
       "    <tr>\n",
       "      <th>177</th>\n",
       "      <td>14.13</td>\n",
       "      <td>4.10</td>\n",
       "      <td>2.74</td>\n",
       "      <td>24.5</td>\n",
       "      <td>96.0</td>\n",
       "      <td>2.05</td>\n",
       "      <td>0.76</td>\n",
       "      <td>0.56</td>\n",
       "      <td>1.35</td>\n",
       "      <td>9.20</td>\n",
       "      <td>0.61</td>\n",
       "      <td>1.60</td>\n",
       "      <td>560.0</td>\n",
       "    </tr>\n",
       "  </tbody>\n",
       "</table>\n",
       "<p>178 rows × 13 columns</p>\n",
       "</div>"
      ],
      "text/plain": [
       "     alcohol  malic_acid   ash  alcalinity_of_ash  magnesium  total_phenols  \\\n",
       "0      14.23        1.71  2.43               15.6      127.0           2.80   \n",
       "1      13.20        1.78  2.14               11.2      100.0           2.65   \n",
       "2      13.16        2.36  2.67               18.6      101.0           2.80   \n",
       "3      14.37        1.95  2.50               16.8      113.0           3.85   \n",
       "4      13.24        2.59  2.87               21.0      118.0           2.80   \n",
       "..       ...         ...   ...                ...        ...            ...   \n",
       "173    13.71        5.65  2.45               20.5       95.0           1.68   \n",
       "174    13.40        3.91  2.48               23.0      102.0           1.80   \n",
       "175    13.27        4.28  2.26               20.0      120.0           1.59   \n",
       "176    13.17        2.59  2.37               20.0      120.0           1.65   \n",
       "177    14.13        4.10  2.74               24.5       96.0           2.05   \n",
       "\n",
       "     flavanoids  nonflavanoid_phenols  proanthocyanins  color_intensity   hue  \\\n",
       "0          3.06                  0.28             2.29             5.64  1.04   \n",
       "1          2.76                  0.26             1.28             4.38  1.05   \n",
       "2          3.24                  0.30             2.81             5.68  1.03   \n",
       "3          3.49                  0.24             2.18             7.80  0.86   \n",
       "4          2.69                  0.39             1.82             4.32  1.04   \n",
       "..          ...                   ...              ...              ...   ...   \n",
       "173        0.61                  0.52             1.06             7.70  0.64   \n",
       "174        0.75                  0.43             1.41             7.30  0.70   \n",
       "175        0.69                  0.43             1.35            10.20  0.59   \n",
       "176        0.68                  0.53             1.46             9.30  0.60   \n",
       "177        0.76                  0.56             1.35             9.20  0.61   \n",
       "\n",
       "     od280/od315_of_diluted_wines  proline  \n",
       "0                            3.92   1065.0  \n",
       "1                            3.40   1050.0  \n",
       "2                            3.17   1185.0  \n",
       "3                            3.45   1480.0  \n",
       "4                            2.93    735.0  \n",
       "..                            ...      ...  \n",
       "173                          1.74    740.0  \n",
       "174                          1.56    750.0  \n",
       "175                          1.56    835.0  \n",
       "176                          1.62    840.0  \n",
       "177                          1.60    560.0  \n",
       "\n",
       "[178 rows x 13 columns]"
      ]
     },
     "execution_count": 12,
     "metadata": {},
     "output_type": "execute_result"
    }
   ],
   "source": [
    "import pandas as pd\n",
    "from sklearn.datasets import load_wine\n",
    "wine_data = load_wine(as_frame=True)\n",
    "wine_data = wine_data.data\n",
    "wine_data"
   ]
  },
  {
   "cell_type": "code",
   "execution_count": 13,
   "metadata": {
    "scrolled": false,
    "slideshow": {
     "slide_type": "fragment"
    }
   },
   "outputs": [
    {
     "data": {
      "text/html": [
       "<div>\n",
       "<style scoped>\n",
       "    .dataframe tbody tr th:only-of-type {\n",
       "        vertical-align: middle;\n",
       "    }\n",
       "\n",
       "    .dataframe tbody tr th {\n",
       "        vertical-align: top;\n",
       "    }\n",
       "\n",
       "    .dataframe thead th {\n",
       "        text-align: right;\n",
       "    }\n",
       "</style>\n",
       "<table border=\"1\" class=\"dataframe\">\n",
       "  <thead>\n",
       "    <tr style=\"text-align: right;\">\n",
       "      <th></th>\n",
       "      <th>alcohol</th>\n",
       "      <th>malic_acid</th>\n",
       "      <th>ash</th>\n",
       "      <th>alcalinity_of_ash</th>\n",
       "      <th>magnesium</th>\n",
       "      <th>total_phenols</th>\n",
       "      <th>flavanoids</th>\n",
       "      <th>nonflavanoid_phenols</th>\n",
       "      <th>proanthocyanins</th>\n",
       "      <th>color_intensity</th>\n",
       "      <th>hue</th>\n",
       "      <th>od280/od315_of_diluted_wines</th>\n",
       "      <th>proline</th>\n",
       "    </tr>\n",
       "  </thead>\n",
       "  <tbody>\n",
       "    <tr>\n",
       "      <th>count</th>\n",
       "      <td>178.000000</td>\n",
       "      <td>178.000000</td>\n",
       "      <td>178.000000</td>\n",
       "      <td>178.000000</td>\n",
       "      <td>178.000000</td>\n",
       "      <td>178.000000</td>\n",
       "      <td>178.000000</td>\n",
       "      <td>178.000000</td>\n",
       "      <td>178.000000</td>\n",
       "      <td>178.000000</td>\n",
       "      <td>178.000000</td>\n",
       "      <td>178.000000</td>\n",
       "      <td>178.000000</td>\n",
       "    </tr>\n",
       "    <tr>\n",
       "      <th>mean</th>\n",
       "      <td>13.000618</td>\n",
       "      <td>2.336348</td>\n",
       "      <td>2.366517</td>\n",
       "      <td>19.494944</td>\n",
       "      <td>99.741573</td>\n",
       "      <td>2.295112</td>\n",
       "      <td>2.029270</td>\n",
       "      <td>0.361854</td>\n",
       "      <td>1.590899</td>\n",
       "      <td>5.058090</td>\n",
       "      <td>0.957449</td>\n",
       "      <td>2.611685</td>\n",
       "      <td>746.893258</td>\n",
       "    </tr>\n",
       "    <tr>\n",
       "      <th>std</th>\n",
       "      <td>0.811827</td>\n",
       "      <td>1.117146</td>\n",
       "      <td>0.274344</td>\n",
       "      <td>3.339564</td>\n",
       "      <td>14.282484</td>\n",
       "      <td>0.625851</td>\n",
       "      <td>0.998859</td>\n",
       "      <td>0.124453</td>\n",
       "      <td>0.572359</td>\n",
       "      <td>2.318286</td>\n",
       "      <td>0.228572</td>\n",
       "      <td>0.709990</td>\n",
       "      <td>314.907474</td>\n",
       "    </tr>\n",
       "    <tr>\n",
       "      <th>min</th>\n",
       "      <td>11.030000</td>\n",
       "      <td>0.740000</td>\n",
       "      <td>1.360000</td>\n",
       "      <td>10.600000</td>\n",
       "      <td>70.000000</td>\n",
       "      <td>0.980000</td>\n",
       "      <td>0.340000</td>\n",
       "      <td>0.130000</td>\n",
       "      <td>0.410000</td>\n",
       "      <td>1.280000</td>\n",
       "      <td>0.480000</td>\n",
       "      <td>1.270000</td>\n",
       "      <td>278.000000</td>\n",
       "    </tr>\n",
       "    <tr>\n",
       "      <th>25%</th>\n",
       "      <td>12.362500</td>\n",
       "      <td>1.602500</td>\n",
       "      <td>2.210000</td>\n",
       "      <td>17.200000</td>\n",
       "      <td>88.000000</td>\n",
       "      <td>1.742500</td>\n",
       "      <td>1.205000</td>\n",
       "      <td>0.270000</td>\n",
       "      <td>1.250000</td>\n",
       "      <td>3.220000</td>\n",
       "      <td>0.782500</td>\n",
       "      <td>1.937500</td>\n",
       "      <td>500.500000</td>\n",
       "    </tr>\n",
       "    <tr>\n",
       "      <th>50%</th>\n",
       "      <td>13.050000</td>\n",
       "      <td>1.865000</td>\n",
       "      <td>2.360000</td>\n",
       "      <td>19.500000</td>\n",
       "      <td>98.000000</td>\n",
       "      <td>2.355000</td>\n",
       "      <td>2.135000</td>\n",
       "      <td>0.340000</td>\n",
       "      <td>1.555000</td>\n",
       "      <td>4.690000</td>\n",
       "      <td>0.965000</td>\n",
       "      <td>2.780000</td>\n",
       "      <td>673.500000</td>\n",
       "    </tr>\n",
       "    <tr>\n",
       "      <th>75%</th>\n",
       "      <td>13.677500</td>\n",
       "      <td>3.082500</td>\n",
       "      <td>2.557500</td>\n",
       "      <td>21.500000</td>\n",
       "      <td>107.000000</td>\n",
       "      <td>2.800000</td>\n",
       "      <td>2.875000</td>\n",
       "      <td>0.437500</td>\n",
       "      <td>1.950000</td>\n",
       "      <td>6.200000</td>\n",
       "      <td>1.120000</td>\n",
       "      <td>3.170000</td>\n",
       "      <td>985.000000</td>\n",
       "    </tr>\n",
       "    <tr>\n",
       "      <th>max</th>\n",
       "      <td>14.830000</td>\n",
       "      <td>5.800000</td>\n",
       "      <td>3.230000</td>\n",
       "      <td>30.000000</td>\n",
       "      <td>162.000000</td>\n",
       "      <td>3.880000</td>\n",
       "      <td>5.080000</td>\n",
       "      <td>0.660000</td>\n",
       "      <td>3.580000</td>\n",
       "      <td>13.000000</td>\n",
       "      <td>1.710000</td>\n",
       "      <td>4.000000</td>\n",
       "      <td>1680.000000</td>\n",
       "    </tr>\n",
       "  </tbody>\n",
       "</table>\n",
       "</div>"
      ],
      "text/plain": [
       "          alcohol  malic_acid         ash  alcalinity_of_ash   magnesium  \\\n",
       "count  178.000000  178.000000  178.000000         178.000000  178.000000   \n",
       "mean    13.000618    2.336348    2.366517          19.494944   99.741573   \n",
       "std      0.811827    1.117146    0.274344           3.339564   14.282484   \n",
       "min     11.030000    0.740000    1.360000          10.600000   70.000000   \n",
       "25%     12.362500    1.602500    2.210000          17.200000   88.000000   \n",
       "50%     13.050000    1.865000    2.360000          19.500000   98.000000   \n",
       "75%     13.677500    3.082500    2.557500          21.500000  107.000000   \n",
       "max     14.830000    5.800000    3.230000          30.000000  162.000000   \n",
       "\n",
       "       total_phenols  flavanoids  nonflavanoid_phenols  proanthocyanins  \\\n",
       "count     178.000000  178.000000            178.000000       178.000000   \n",
       "mean        2.295112    2.029270              0.361854         1.590899   \n",
       "std         0.625851    0.998859              0.124453         0.572359   \n",
       "min         0.980000    0.340000              0.130000         0.410000   \n",
       "25%         1.742500    1.205000              0.270000         1.250000   \n",
       "50%         2.355000    2.135000              0.340000         1.555000   \n",
       "75%         2.800000    2.875000              0.437500         1.950000   \n",
       "max         3.880000    5.080000              0.660000         3.580000   \n",
       "\n",
       "       color_intensity         hue  od280/od315_of_diluted_wines      proline  \n",
       "count       178.000000  178.000000                    178.000000   178.000000  \n",
       "mean          5.058090    0.957449                      2.611685   746.893258  \n",
       "std           2.318286    0.228572                      0.709990   314.907474  \n",
       "min           1.280000    0.480000                      1.270000   278.000000  \n",
       "25%           3.220000    0.782500                      1.937500   500.500000  \n",
       "50%           4.690000    0.965000                      2.780000   673.500000  \n",
       "75%           6.200000    1.120000                      3.170000   985.000000  \n",
       "max          13.000000    1.710000                      4.000000  1680.000000  "
      ]
     },
     "execution_count": 13,
     "metadata": {},
     "output_type": "execute_result"
    }
   ],
   "source": [
    "wine_data.describe()"
   ]
  },
  {
   "cell_type": "markdown",
   "metadata": {
    "slideshow": {
     "slide_type": "slide"
    }
   },
   "source": [
    "Usually we would like to normalize the data before applying PCA. Normalization ensures that components won't be defined by feature means."
   ]
  },
  {
   "cell_type": "code",
   "execution_count": 14,
   "metadata": {
    "scrolled": true,
    "slideshow": {
     "slide_type": "fragment"
    }
   },
   "outputs": [
    {
     "data": {
      "text/html": [
       "<div>\n",
       "<style scoped>\n",
       "    .dataframe tbody tr th:only-of-type {\n",
       "        vertical-align: middle;\n",
       "    }\n",
       "\n",
       "    .dataframe tbody tr th {\n",
       "        vertical-align: top;\n",
       "    }\n",
       "\n",
       "    .dataframe thead th {\n",
       "        text-align: right;\n",
       "    }\n",
       "</style>\n",
       "<table border=\"1\" class=\"dataframe\">\n",
       "  <thead>\n",
       "    <tr style=\"text-align: right;\">\n",
       "      <th></th>\n",
       "      <th>alcohol</th>\n",
       "      <th>malic_acid</th>\n",
       "      <th>ash</th>\n",
       "      <th>alcalinity_of_ash</th>\n",
       "      <th>magnesium</th>\n",
       "      <th>total_phenols</th>\n",
       "      <th>flavanoids</th>\n",
       "      <th>nonflavanoid_phenols</th>\n",
       "      <th>proanthocyanins</th>\n",
       "      <th>color_intensity</th>\n",
       "      <th>hue</th>\n",
       "      <th>od280/od315_of_diluted_wines</th>\n",
       "      <th>proline</th>\n",
       "    </tr>\n",
       "  </thead>\n",
       "  <tbody>\n",
       "    <tr>\n",
       "      <th>0</th>\n",
       "      <td>1.514341</td>\n",
       "      <td>-0.560668</td>\n",
       "      <td>0.231400</td>\n",
       "      <td>-1.166303</td>\n",
       "      <td>1.908522</td>\n",
       "      <td>0.806722</td>\n",
       "      <td>1.031908</td>\n",
       "      <td>-0.657708</td>\n",
       "      <td>1.221438</td>\n",
       "      <td>0.251009</td>\n",
       "      <td>0.361158</td>\n",
       "      <td>1.842721</td>\n",
       "      <td>1.010159</td>\n",
       "    </tr>\n",
       "    <tr>\n",
       "      <th>1</th>\n",
       "      <td>0.245597</td>\n",
       "      <td>-0.498009</td>\n",
       "      <td>-0.825667</td>\n",
       "      <td>-2.483841</td>\n",
       "      <td>0.018094</td>\n",
       "      <td>0.567048</td>\n",
       "      <td>0.731565</td>\n",
       "      <td>-0.818411</td>\n",
       "      <td>-0.543189</td>\n",
       "      <td>-0.292496</td>\n",
       "      <td>0.404908</td>\n",
       "      <td>1.110317</td>\n",
       "      <td>0.962526</td>\n",
       "    </tr>\n",
       "    <tr>\n",
       "      <th>2</th>\n",
       "      <td>0.196325</td>\n",
       "      <td>0.021172</td>\n",
       "      <td>1.106214</td>\n",
       "      <td>-0.267982</td>\n",
       "      <td>0.088110</td>\n",
       "      <td>0.806722</td>\n",
       "      <td>1.212114</td>\n",
       "      <td>-0.497005</td>\n",
       "      <td>2.129959</td>\n",
       "      <td>0.268263</td>\n",
       "      <td>0.317409</td>\n",
       "      <td>0.786369</td>\n",
       "      <td>1.391224</td>\n",
       "    </tr>\n",
       "    <tr>\n",
       "      <th>3</th>\n",
       "      <td>1.686791</td>\n",
       "      <td>-0.345835</td>\n",
       "      <td>0.486554</td>\n",
       "      <td>-0.806975</td>\n",
       "      <td>0.928300</td>\n",
       "      <td>2.484437</td>\n",
       "      <td>1.462399</td>\n",
       "      <td>-0.979113</td>\n",
       "      <td>1.029251</td>\n",
       "      <td>1.182732</td>\n",
       "      <td>-0.426341</td>\n",
       "      <td>1.180741</td>\n",
       "      <td>2.328007</td>\n",
       "    </tr>\n",
       "    <tr>\n",
       "      <th>4</th>\n",
       "      <td>0.294868</td>\n",
       "      <td>0.227053</td>\n",
       "      <td>1.835226</td>\n",
       "      <td>0.450674</td>\n",
       "      <td>1.278379</td>\n",
       "      <td>0.806722</td>\n",
       "      <td>0.661485</td>\n",
       "      <td>0.226158</td>\n",
       "      <td>0.400275</td>\n",
       "      <td>-0.318377</td>\n",
       "      <td>0.361158</td>\n",
       "      <td>0.448336</td>\n",
       "      <td>-0.037767</td>\n",
       "    </tr>\n",
       "    <tr>\n",
       "      <th>...</th>\n",
       "      <td>...</td>\n",
       "      <td>...</td>\n",
       "      <td>...</td>\n",
       "      <td>...</td>\n",
       "      <td>...</td>\n",
       "      <td>...</td>\n",
       "      <td>...</td>\n",
       "      <td>...</td>\n",
       "      <td>...</td>\n",
       "      <td>...</td>\n",
       "      <td>...</td>\n",
       "      <td>...</td>\n",
       "      <td>...</td>\n",
       "    </tr>\n",
       "    <tr>\n",
       "      <th>173</th>\n",
       "      <td>0.873810</td>\n",
       "      <td>2.966176</td>\n",
       "      <td>0.304301</td>\n",
       "      <td>0.300954</td>\n",
       "      <td>-0.331985</td>\n",
       "      <td>-0.982841</td>\n",
       "      <td>-1.420891</td>\n",
       "      <td>1.270726</td>\n",
       "      <td>-0.927563</td>\n",
       "      <td>1.139596</td>\n",
       "      <td>-1.388840</td>\n",
       "      <td>-1.227742</td>\n",
       "      <td>-0.021890</td>\n",
       "    </tr>\n",
       "    <tr>\n",
       "      <th>174</th>\n",
       "      <td>0.491955</td>\n",
       "      <td>1.408636</td>\n",
       "      <td>0.413653</td>\n",
       "      <td>1.049555</td>\n",
       "      <td>0.158126</td>\n",
       "      <td>-0.791103</td>\n",
       "      <td>-1.280731</td>\n",
       "      <td>0.547563</td>\n",
       "      <td>-0.316058</td>\n",
       "      <td>0.967055</td>\n",
       "      <td>-1.126341</td>\n",
       "      <td>-1.481267</td>\n",
       "      <td>0.009866</td>\n",
       "    </tr>\n",
       "    <tr>\n",
       "      <th>175</th>\n",
       "      <td>0.331822</td>\n",
       "      <td>1.739837</td>\n",
       "      <td>-0.388260</td>\n",
       "      <td>0.151234</td>\n",
       "      <td>1.418411</td>\n",
       "      <td>-1.126646</td>\n",
       "      <td>-1.340800</td>\n",
       "      <td>0.547563</td>\n",
       "      <td>-0.420888</td>\n",
       "      <td>2.217979</td>\n",
       "      <td>-1.607590</td>\n",
       "      <td>-1.481267</td>\n",
       "      <td>0.279786</td>\n",
       "    </tr>\n",
       "    <tr>\n",
       "      <th>176</th>\n",
       "      <td>0.208643</td>\n",
       "      <td>0.227053</td>\n",
       "      <td>0.012696</td>\n",
       "      <td>0.151234</td>\n",
       "      <td>1.418411</td>\n",
       "      <td>-1.030776</td>\n",
       "      <td>-1.350811</td>\n",
       "      <td>1.351077</td>\n",
       "      <td>-0.228701</td>\n",
       "      <td>1.829761</td>\n",
       "      <td>-1.563840</td>\n",
       "      <td>-1.396759</td>\n",
       "      <td>0.295664</td>\n",
       "    </tr>\n",
       "    <tr>\n",
       "      <th>177</th>\n",
       "      <td>1.391162</td>\n",
       "      <td>1.578712</td>\n",
       "      <td>1.361368</td>\n",
       "      <td>1.498716</td>\n",
       "      <td>-0.261969</td>\n",
       "      <td>-0.391646</td>\n",
       "      <td>-1.270720</td>\n",
       "      <td>1.592131</td>\n",
       "      <td>-0.420888</td>\n",
       "      <td>1.786626</td>\n",
       "      <td>-1.520090</td>\n",
       "      <td>-1.424928</td>\n",
       "      <td>-0.593486</td>\n",
       "    </tr>\n",
       "  </tbody>\n",
       "</table>\n",
       "<p>178 rows × 13 columns</p>\n",
       "</div>"
      ],
      "text/plain": [
       "      alcohol  malic_acid       ash  alcalinity_of_ash  magnesium  \\\n",
       "0    1.514341   -0.560668  0.231400          -1.166303   1.908522   \n",
       "1    0.245597   -0.498009 -0.825667          -2.483841   0.018094   \n",
       "2    0.196325    0.021172  1.106214          -0.267982   0.088110   \n",
       "3    1.686791   -0.345835  0.486554          -0.806975   0.928300   \n",
       "4    0.294868    0.227053  1.835226           0.450674   1.278379   \n",
       "..        ...         ...       ...                ...        ...   \n",
       "173  0.873810    2.966176  0.304301           0.300954  -0.331985   \n",
       "174  0.491955    1.408636  0.413653           1.049555   0.158126   \n",
       "175  0.331822    1.739837 -0.388260           0.151234   1.418411   \n",
       "176  0.208643    0.227053  0.012696           0.151234   1.418411   \n",
       "177  1.391162    1.578712  1.361368           1.498716  -0.261969   \n",
       "\n",
       "     total_phenols  flavanoids  nonflavanoid_phenols  proanthocyanins  \\\n",
       "0         0.806722    1.031908             -0.657708         1.221438   \n",
       "1         0.567048    0.731565             -0.818411        -0.543189   \n",
       "2         0.806722    1.212114             -0.497005         2.129959   \n",
       "3         2.484437    1.462399             -0.979113         1.029251   \n",
       "4         0.806722    0.661485              0.226158         0.400275   \n",
       "..             ...         ...                   ...              ...   \n",
       "173      -0.982841   -1.420891              1.270726        -0.927563   \n",
       "174      -0.791103   -1.280731              0.547563        -0.316058   \n",
       "175      -1.126646   -1.340800              0.547563        -0.420888   \n",
       "176      -1.030776   -1.350811              1.351077        -0.228701   \n",
       "177      -0.391646   -1.270720              1.592131        -0.420888   \n",
       "\n",
       "     color_intensity       hue  od280/od315_of_diluted_wines   proline  \n",
       "0           0.251009  0.361158                      1.842721  1.010159  \n",
       "1          -0.292496  0.404908                      1.110317  0.962526  \n",
       "2           0.268263  0.317409                      0.786369  1.391224  \n",
       "3           1.182732 -0.426341                      1.180741  2.328007  \n",
       "4          -0.318377  0.361158                      0.448336 -0.037767  \n",
       "..               ...       ...                           ...       ...  \n",
       "173         1.139596 -1.388840                     -1.227742 -0.021890  \n",
       "174         0.967055 -1.126341                     -1.481267  0.009866  \n",
       "175         2.217979 -1.607590                     -1.481267  0.279786  \n",
       "176         1.829761 -1.563840                     -1.396759  0.295664  \n",
       "177         1.786626 -1.520090                     -1.424928 -0.593486  \n",
       "\n",
       "[178 rows x 13 columns]"
      ]
     },
     "execution_count": 14,
     "metadata": {},
     "output_type": "execute_result"
    }
   ],
   "source": [
    "wine_data_norm = wine_data.copy()\n",
    "for c in wine_data_norm.columns:\n",
    "    m = wine_data_norm[c].mean()\n",
    "    s = wine_data_norm[c].std()\n",
    "    wine_data_norm[c] = (wine_data_norm[c]-m)/s\n",
    "wine_data_norm"
   ]
  },
  {
   "cell_type": "code",
   "execution_count": 15,
   "metadata": {
    "scrolled": false,
    "slideshow": {
     "slide_type": "fragment"
    }
   },
   "outputs": [
    {
     "data": {
      "text/html": [
       "<div>\n",
       "<style scoped>\n",
       "    .dataframe tbody tr th:only-of-type {\n",
       "        vertical-align: middle;\n",
       "    }\n",
       "\n",
       "    .dataframe tbody tr th {\n",
       "        vertical-align: top;\n",
       "    }\n",
       "\n",
       "    .dataframe thead th {\n",
       "        text-align: right;\n",
       "    }\n",
       "</style>\n",
       "<table border=\"1\" class=\"dataframe\">\n",
       "  <thead>\n",
       "    <tr style=\"text-align: right;\">\n",
       "      <th></th>\n",
       "      <th>alcohol</th>\n",
       "      <th>malic_acid</th>\n",
       "      <th>ash</th>\n",
       "      <th>alcalinity_of_ash</th>\n",
       "      <th>magnesium</th>\n",
       "      <th>total_phenols</th>\n",
       "      <th>flavanoids</th>\n",
       "      <th>nonflavanoid_phenols</th>\n",
       "      <th>proanthocyanins</th>\n",
       "      <th>color_intensity</th>\n",
       "      <th>hue</th>\n",
       "      <th>od280/od315_of_diluted_wines</th>\n",
       "      <th>proline</th>\n",
       "    </tr>\n",
       "  </thead>\n",
       "  <tbody>\n",
       "    <tr>\n",
       "      <th>count</th>\n",
       "      <td>1.780000e+02</td>\n",
       "      <td>1.780000e+02</td>\n",
       "      <td>1.780000e+02</td>\n",
       "      <td>1.780000e+02</td>\n",
       "      <td>1.780000e+02</td>\n",
       "      <td>1.780000e+02</td>\n",
       "      <td>1.780000e+02</td>\n",
       "      <td>1.780000e+02</td>\n",
       "      <td>1.780000e+02</td>\n",
       "      <td>1.780000e+02</td>\n",
       "      <td>1.780000e+02</td>\n",
       "      <td>1.780000e+02</td>\n",
       "      <td>1.780000e+02</td>\n",
       "    </tr>\n",
       "    <tr>\n",
       "      <th>mean</th>\n",
       "      <td>7.823954e-15</td>\n",
       "      <td>2.943962e-16</td>\n",
       "      <td>-4.082876e-15</td>\n",
       "      <td>-5.488743e-17</td>\n",
       "      <td>-7.609394e-17</td>\n",
       "      <td>1.234967e-16</td>\n",
       "      <td>9.580351e-16</td>\n",
       "      <td>-1.635396e-15</td>\n",
       "      <td>-1.666270e-15</td>\n",
       "      <td>-4.216353e-16</td>\n",
       "      <td>1.657850e-15</td>\n",
       "      <td>2.200487e-15</td>\n",
       "      <td>-1.341000e-16</td>\n",
       "    </tr>\n",
       "    <tr>\n",
       "      <th>std</th>\n",
       "      <td>1.000000e+00</td>\n",
       "      <td>1.000000e+00</td>\n",
       "      <td>1.000000e+00</td>\n",
       "      <td>1.000000e+00</td>\n",
       "      <td>1.000000e+00</td>\n",
       "      <td>1.000000e+00</td>\n",
       "      <td>1.000000e+00</td>\n",
       "      <td>1.000000e+00</td>\n",
       "      <td>1.000000e+00</td>\n",
       "      <td>1.000000e+00</td>\n",
       "      <td>1.000000e+00</td>\n",
       "      <td>1.000000e+00</td>\n",
       "      <td>1.000000e+00</td>\n",
       "    </tr>\n",
       "    <tr>\n",
       "      <th>min</th>\n",
       "      <td>-2.427388e+00</td>\n",
       "      <td>-1.428952e+00</td>\n",
       "      <td>-3.668813e+00</td>\n",
       "      <td>-2.663505e+00</td>\n",
       "      <td>-2.082381e+00</td>\n",
       "      <td>-2.101318e+00</td>\n",
       "      <td>-1.691200e+00</td>\n",
       "      <td>-1.862979e+00</td>\n",
       "      <td>-2.063214e+00</td>\n",
       "      <td>-1.629691e+00</td>\n",
       "      <td>-2.088840e+00</td>\n",
       "      <td>-1.889723e+00</td>\n",
       "      <td>-1.488987e+00</td>\n",
       "    </tr>\n",
       "    <tr>\n",
       "      <th>25%</th>\n",
       "      <td>-7.860275e-01</td>\n",
       "      <td>-6.568956e-01</td>\n",
       "      <td>-5.705131e-01</td>\n",
       "      <td>-6.871987e-01</td>\n",
       "      <td>-8.220960e-01</td>\n",
       "      <td>-8.829774e-01</td>\n",
       "      <td>-8.252115e-01</td>\n",
       "      <td>-7.380592e-01</td>\n",
       "      <td>-5.956034e-01</td>\n",
       "      <td>-7.928659e-01</td>\n",
       "      <td>-7.654033e-01</td>\n",
       "      <td>-9.495697e-01</td>\n",
       "      <td>-7.824306e-01</td>\n",
       "    </tr>\n",
       "    <tr>\n",
       "      <th>50%</th>\n",
       "      <td>6.082829e-02</td>\n",
       "      <td>-4.219218e-01</td>\n",
       "      <td>-2.375431e-02</td>\n",
       "      <td>1.514024e-03</td>\n",
       "      <td>-1.219377e-01</td>\n",
       "      <td>9.568993e-02</td>\n",
       "      <td>1.058511e-01</td>\n",
       "      <td>-1.755994e-01</td>\n",
       "      <td>-6.272092e-02</td>\n",
       "      <td>-1.587767e-01</td>\n",
       "      <td>3.303369e-02</td>\n",
       "      <td>2.370660e-01</td>\n",
       "      <td>-2.330629e-01</td>\n",
       "    </tr>\n",
       "    <tr>\n",
       "      <th>75%</th>\n",
       "      <td>8.337767e-01</td>\n",
       "      <td>6.679088e-01</td>\n",
       "      <td>6.961448e-01</td>\n",
       "      <td>6.003946e-01</td>\n",
       "      <td>5.082048e-01</td>\n",
       "      <td>8.067217e-01</td>\n",
       "      <td>8.466967e-01</td>\n",
       "      <td>6.078267e-01</td>\n",
       "      <td>6.274055e-01</td>\n",
       "      <td>4.925666e-01</td>\n",
       "      <td>7.111583e-01</td>\n",
       "      <td>7.863692e-01</td>\n",
       "      <td>7.561165e-01</td>\n",
       "    </tr>\n",
       "    <tr>\n",
       "      <th>max</th>\n",
       "      <td>2.253415e+00</td>\n",
       "      <td>3.100446e+00</td>\n",
       "      <td>3.147447e+00</td>\n",
       "      <td>3.145637e+00</td>\n",
       "      <td>4.359076e+00</td>\n",
       "      <td>2.532372e+00</td>\n",
       "      <td>3.054216e+00</td>\n",
       "      <td>2.395645e+00</td>\n",
       "      <td>3.475269e+00</td>\n",
       "      <td>3.425768e+00</td>\n",
       "      <td>3.292407e+00</td>\n",
       "      <td>1.955399e+00</td>\n",
       "      <td>2.963114e+00</td>\n",
       "    </tr>\n",
       "  </tbody>\n",
       "</table>\n",
       "</div>"
      ],
      "text/plain": [
       "            alcohol    malic_acid           ash  alcalinity_of_ash  \\\n",
       "count  1.780000e+02  1.780000e+02  1.780000e+02       1.780000e+02   \n",
       "mean   7.823954e-15  2.943962e-16 -4.082876e-15      -5.488743e-17   \n",
       "std    1.000000e+00  1.000000e+00  1.000000e+00       1.000000e+00   \n",
       "min   -2.427388e+00 -1.428952e+00 -3.668813e+00      -2.663505e+00   \n",
       "25%   -7.860275e-01 -6.568956e-01 -5.705131e-01      -6.871987e-01   \n",
       "50%    6.082829e-02 -4.219218e-01 -2.375431e-02       1.514024e-03   \n",
       "75%    8.337767e-01  6.679088e-01  6.961448e-01       6.003946e-01   \n",
       "max    2.253415e+00  3.100446e+00  3.147447e+00       3.145637e+00   \n",
       "\n",
       "          magnesium  total_phenols    flavanoids  nonflavanoid_phenols  \\\n",
       "count  1.780000e+02   1.780000e+02  1.780000e+02          1.780000e+02   \n",
       "mean  -7.609394e-17   1.234967e-16  9.580351e-16         -1.635396e-15   \n",
       "std    1.000000e+00   1.000000e+00  1.000000e+00          1.000000e+00   \n",
       "min   -2.082381e+00  -2.101318e+00 -1.691200e+00         -1.862979e+00   \n",
       "25%   -8.220960e-01  -8.829774e-01 -8.252115e-01         -7.380592e-01   \n",
       "50%   -1.219377e-01   9.568993e-02  1.058511e-01         -1.755994e-01   \n",
       "75%    5.082048e-01   8.067217e-01  8.466967e-01          6.078267e-01   \n",
       "max    4.359076e+00   2.532372e+00  3.054216e+00          2.395645e+00   \n",
       "\n",
       "       proanthocyanins  color_intensity           hue  \\\n",
       "count     1.780000e+02     1.780000e+02  1.780000e+02   \n",
       "mean     -1.666270e-15    -4.216353e-16  1.657850e-15   \n",
       "std       1.000000e+00     1.000000e+00  1.000000e+00   \n",
       "min      -2.063214e+00    -1.629691e+00 -2.088840e+00   \n",
       "25%      -5.956034e-01    -7.928659e-01 -7.654033e-01   \n",
       "50%      -6.272092e-02    -1.587767e-01  3.303369e-02   \n",
       "75%       6.274055e-01     4.925666e-01  7.111583e-01   \n",
       "max       3.475269e+00     3.425768e+00  3.292407e+00   \n",
       "\n",
       "       od280/od315_of_diluted_wines       proline  \n",
       "count                  1.780000e+02  1.780000e+02  \n",
       "mean                   2.200487e-15 -1.341000e-16  \n",
       "std                    1.000000e+00  1.000000e+00  \n",
       "min                   -1.889723e+00 -1.488987e+00  \n",
       "25%                   -9.495697e-01 -7.824306e-01  \n",
       "50%                    2.370660e-01 -2.330629e-01  \n",
       "75%                    7.863692e-01  7.561165e-01  \n",
       "max                    1.955399e+00  2.963114e+00  "
      ]
     },
     "execution_count": 15,
     "metadata": {},
     "output_type": "execute_result"
    }
   ],
   "source": [
    "wine_data_norm.describe()"
   ]
  },
  {
   "cell_type": "markdown",
   "metadata": {
    "slideshow": {
     "slide_type": "slide"
    }
   },
   "source": [
    "## Apply PCA"
   ]
  },
  {
   "cell_type": "markdown",
   "metadata": {
    "slideshow": {
     "slide_type": "fragment"
    }
   },
   "source": [
    "Let's apply PCA:"
   ]
  },
  {
   "cell_type": "code",
   "execution_count": 16,
   "metadata": {
    "slideshow": {
     "slide_type": "fragment"
    }
   },
   "outputs": [
    {
     "data": {
      "text/plain": [
       "array([0.36198848, 0.1920749 , 0.11123631, 0.0706903 , 0.06563294,\n",
       "       0.04935823, 0.04238679, 0.02680749, 0.02222153, 0.01930019,\n",
       "       0.01736836, 0.01298233, 0.00795215])"
      ]
     },
     "execution_count": 16,
     "metadata": {},
     "output_type": "execute_result"
    }
   ],
   "source": [
    "pca_wine = PCA()\n",
    "pca_wine.fit(wine_data_norm)\n",
    "pca_wine.explained_variance_ratio_"
   ]
  },
  {
   "cell_type": "markdown",
   "metadata": {
    "slideshow": {
     "slide_type": "slide"
    }
   },
   "source": [
    "## Reduce dimensionality"
   ]
  },
  {
   "cell_type": "markdown",
   "metadata": {
    "slideshow": {
     "slide_type": "fragment"
    }
   },
   "source": [
    "There is no ultimate rule to determine the number of components to keep. Here the \"elbow\" rule shows that not much information is gained after the 3rd component:"
   ]
  },
  {
   "cell_type": "code",
   "execution_count": 17,
   "metadata": {
    "scrolled": true,
    "slideshow": {
     "slide_type": "fragment"
    }
   },
   "outputs": [
    {
     "data": {
      "text/plain": [
       "[<matplotlib.lines.Line2D at 0x7fd7219863a0>]"
      ]
     },
     "execution_count": 17,
     "metadata": {},
     "output_type": "execute_result"
    },
    {
     "data": {
      "image/png": "[encoded data removed]",
      "text/plain": [
       "<Figure size 432x288 with 1 Axes>"
      ]
     },
     "metadata": {
      "needs_background": "light"
     },
     "output_type": "display_data"
    }
   ],
   "source": [
    "plt.plot(pca_wine.explained_variance_ratio_)"
   ]
  },
  {
   "cell_type": "markdown",
   "metadata": {
    "slideshow": {
     "slide_type": "fragment"
    }
   },
   "source": [
    "Keeping only 3 components removes 33% of the total variance, that's quite a lot!"
   ]
  },
  {
   "cell_type": "code",
   "execution_count": 18,
   "metadata": {
    "slideshow": {
     "slide_type": "fragment"
    }
   },
   "outputs": [
    {
     "data": {
      "text/plain": [
       "0.6652996889318525"
      ]
     },
     "execution_count": 18,
     "metadata": {},
     "output_type": "execute_result"
    }
   ],
   "source": [
    "sum(pca_wine.explained_variance_ratio_[:3])"
   ]
  },
  {
   "cell_type": "markdown",
   "metadata": {
    "slideshow": {
     "slide_type": "slide"
    }
   },
   "source": [
    "Another common rule is to keep enough components to retain 90% of the variance. With this dataset this rule would lead us to keep 7 components:"
   ]
  },
  {
   "cell_type": "code",
   "execution_count": 19,
   "metadata": {
    "slideshow": {
     "slide_type": "fragment"
    }
   },
   "outputs": [
    {
     "data": {
      "text/plain": [
       "0.8933679539739376"
      ]
     },
     "execution_count": 19,
     "metadata": {},
     "output_type": "execute_result"
    }
   ],
   "source": [
    "sum(pca_wine.explained_variance_ratio_[:7])"
   ]
  },
  {
   "cell_type": "code",
   "execution_count": 20,
   "metadata": {
    "slideshow": {
     "slide_type": "fragment"
    }
   },
   "outputs": [
    {
     "data": {
      "text/html": [
       "<div>\n",
       "<style scoped>\n",
       "    .dataframe tbody tr th:only-of-type {\n",
       "        vertical-align: middle;\n",
       "    }\n",
       "\n",
       "    .dataframe tbody tr th {\n",
       "        vertical-align: top;\n",
       "    }\n",
       "\n",
       "    .dataframe thead th {\n",
       "        text-align: right;\n",
       "    }\n",
       "</style>\n",
       "<table border=\"1\" class=\"dataframe\">\n",
       "  <thead>\n",
       "    <tr style=\"text-align: right;\">\n",
       "      <th></th>\n",
       "      <th>PCA_0</th>\n",
       "      <th>PCA_1</th>\n",
       "      <th>PCA_2</th>\n",
       "      <th>PCA_3</th>\n",
       "      <th>PCA_4</th>\n",
       "      <th>PCA_5</th>\n",
       "      <th>PCA_6</th>\n",
       "    </tr>\n",
       "  </thead>\n",
       "  <tbody>\n",
       "    <tr>\n",
       "      <th>0</th>\n",
       "      <td>3.307421</td>\n",
       "      <td>-1.439402</td>\n",
       "      <td>-0.165273</td>\n",
       "      <td>-0.215025</td>\n",
       "      <td>0.691093</td>\n",
       "      <td>-0.223250</td>\n",
       "      <td>0.594749</td>\n",
       "    </tr>\n",
       "    <tr>\n",
       "      <th>1</th>\n",
       "      <td>2.203250</td>\n",
       "      <td>0.332455</td>\n",
       "      <td>-2.020757</td>\n",
       "      <td>-0.290539</td>\n",
       "      <td>-0.256930</td>\n",
       "      <td>-0.924512</td>\n",
       "      <td>0.053624</td>\n",
       "    </tr>\n",
       "    <tr>\n",
       "      <th>2</th>\n",
       "      <td>2.509661</td>\n",
       "      <td>-1.028251</td>\n",
       "      <td>0.980054</td>\n",
       "      <td>0.722863</td>\n",
       "      <td>-0.250327</td>\n",
       "      <td>0.547731</td>\n",
       "      <td>0.423012</td>\n",
       "    </tr>\n",
       "    <tr>\n",
       "      <th>3</th>\n",
       "      <td>3.746497</td>\n",
       "      <td>-2.748618</td>\n",
       "      <td>-0.175696</td>\n",
       "      <td>0.566386</td>\n",
       "      <td>-0.310964</td>\n",
       "      <td>0.114109</td>\n",
       "      <td>-0.382259</td>\n",
       "    </tr>\n",
       "    <tr>\n",
       "      <th>4</th>\n",
       "      <td>1.006070</td>\n",
       "      <td>-0.867384</td>\n",
       "      <td>2.020987</td>\n",
       "      <td>-0.408613</td>\n",
       "      <td>0.297618</td>\n",
       "      <td>-0.405376</td>\n",
       "      <td>0.442825</td>\n",
       "    </tr>\n",
       "    <tr>\n",
       "      <th>...</th>\n",
       "      <td>...</td>\n",
       "      <td>...</td>\n",
       "      <td>...</td>\n",
       "      <td>...</td>\n",
       "      <td>...</td>\n",
       "      <td>...</td>\n",
       "      <td>...</td>\n",
       "    </tr>\n",
       "    <tr>\n",
       "      <th>173</th>\n",
       "      <td>-3.361043</td>\n",
       "      <td>-2.210055</td>\n",
       "      <td>-0.341606</td>\n",
       "      <td>1.055549</td>\n",
       "      <td>-0.572549</td>\n",
       "      <td>-1.105669</td>\n",
       "      <td>0.955720</td>\n",
       "    </tr>\n",
       "    <tr>\n",
       "      <th>174</th>\n",
       "      <td>-2.594637</td>\n",
       "      <td>-1.752286</td>\n",
       "      <td>0.206997</td>\n",
       "      <td>0.348513</td>\n",
       "      <td>0.254346</td>\n",
       "      <td>-0.026391</td>\n",
       "      <td>0.146480</td>\n",
       "    </tr>\n",
       "    <tr>\n",
       "      <th>175</th>\n",
       "      <td>-2.670307</td>\n",
       "      <td>-2.753133</td>\n",
       "      <td>-0.938295</td>\n",
       "      <td>0.311157</td>\n",
       "      <td>1.267779</td>\n",
       "      <td>0.272300</td>\n",
       "      <td>0.677325</td>\n",
       "    </tr>\n",
       "    <tr>\n",
       "      <th>176</th>\n",
       "      <td>-2.380303</td>\n",
       "      <td>-2.290884</td>\n",
       "      <td>-0.549147</td>\n",
       "      <td>-0.686348</td>\n",
       "      <td>0.811666</td>\n",
       "      <td>1.175467</td>\n",
       "      <td>0.632192</td>\n",
       "    </tr>\n",
       "    <tr>\n",
       "      <th>177</th>\n",
       "      <td>-3.199732</td>\n",
       "      <td>-2.761131</td>\n",
       "      <td>1.011062</td>\n",
       "      <td>0.595224</td>\n",
       "      <td>-0.892674</td>\n",
       "      <td>0.295259</td>\n",
       "      <td>0.005725</td>\n",
       "    </tr>\n",
       "  </tbody>\n",
       "</table>\n",
       "<p>178 rows × 7 columns</p>\n",
       "</div>"
      ],
      "text/plain": [
       "        PCA_0     PCA_1     PCA_2     PCA_3     PCA_4     PCA_5     PCA_6\n",
       "0    3.307421 -1.439402 -0.165273 -0.215025  0.691093 -0.223250  0.594749\n",
       "1    2.203250  0.332455 -2.020757 -0.290539 -0.256930 -0.924512  0.053624\n",
       "2    2.509661 -1.028251  0.980054  0.722863 -0.250327  0.547731  0.423012\n",
       "3    3.746497 -2.748618 -0.175696  0.566386 -0.310964  0.114109 -0.382259\n",
       "4    1.006070 -0.867384  2.020987 -0.408613  0.297618 -0.405376  0.442825\n",
       "..        ...       ...       ...       ...       ...       ...       ...\n",
       "173 -3.361043 -2.210055 -0.341606  1.055549 -0.572549 -1.105669  0.955720\n",
       "174 -2.594637 -1.752286  0.206997  0.348513  0.254346 -0.026391  0.146480\n",
       "175 -2.670307 -2.753133 -0.938295  0.311157  1.267779  0.272300  0.677325\n",
       "176 -2.380303 -2.290884 -0.549147 -0.686348  0.811666  1.175467  0.632192\n",
       "177 -3.199732 -2.761131  1.011062  0.595224 -0.892674  0.295259  0.005725\n",
       "\n",
       "[178 rows x 7 columns]"
      ]
     },
     "execution_count": 20,
     "metadata": {},
     "output_type": "execute_result"
    }
   ],
   "source": [
    "ncomp = 7\n",
    "pca_wine = PCA(n_components=ncomp)\n",
    "wine_data_norm_pca = pd.DataFrame(pca_wine.fit_transform(wine_data_norm),\n",
    "                                  columns=[f'PCA_{str(i)}' for i in range(ncomp)])\n",
    "wine_data_norm_pca"
   ]
  },
  {
   "cell_type": "markdown",
   "metadata": {
    "slideshow": {
     "slide_type": "slide"
    }
   },
   "source": [
    "## Visualize PCA components"
   ]
  },
  {
   "cell_type": "markdown",
   "metadata": {
    "slideshow": {
     "slide_type": "fragment"
    }
   },
   "source": [
    "Visualizing the first PCA components can be interesting:"
   ]
  },
  {
   "cell_type": "code",
   "execution_count": 21,
   "metadata": {
    "slideshow": {
     "slide_type": "fragment"
    }
   },
   "outputs": [
    {
     "data": {
      "text/plain": [
       "<matplotlib.collections.PathCollection at 0x7fd721956ee0>"
      ]
     },
     "execution_count": 21,
     "metadata": {},
     "output_type": "execute_result"
    },
    {
     "data": {
      "image/png": "[encoded data removed]",
      "text/plain": [
       "<Figure size 432x288 with 1 Axes>"
      ]
     },
     "metadata": {
      "needs_background": "light"
     },
     "output_type": "display_data"
    }
   ],
   "source": [
    "plt.scatter(wine_data_norm_pca['PCA_0'], wine_data_norm_pca['PCA_1'])"
   ]
  },
  {
   "cell_type": "code",
   "execution_count": 22,
   "metadata": {
    "slideshow": {
     "slide_type": "fragment"
    }
   },
   "outputs": [
    {
     "data": {
      "text/plain": [
       "<mpl_toolkits.mplot3d.art3d.Path3DCollection at 0x7fd7219080d0>"
      ]
     },
     "execution_count": 22,
     "metadata": {},
     "output_type": "execute_result"
    },
    {
     "data": {
      "image/png": "[encoded data removed]",
      "text/plain": [
       "<Figure size 432x288 with 1 Axes>"
      ]
     },
     "metadata": {
      "needs_background": "light"
     },
     "output_type": "display_data"
    }
   ],
   "source": [
    "ax = plt.axes(projection='3d')\n",
    "ax.scatter(wine_data_norm_pca['PCA_0'], wine_data_norm_pca['PCA_1'], wine_data_norm_pca['PCA_2'])"
   ]
  },
  {
   "cell_type": "markdown",
   "metadata": {
    "slideshow": {
     "slide_type": "slide"
    }
   },
   "source": [
    "# Understand how PCA works"
   ]
  },
  {
   "cell_type": "markdown",
   "metadata": {
    "slideshow": {
     "slide_type": "fragment"
    }
   },
   "source": [
    "## Compute the principal axes"
   ]
  },
  {
   "cell_type": "markdown",
   "metadata": {
    "slideshow": {
     "slide_type": "fragment"
    }
   },
   "source": [
    "Let's consider the covariance matrix of the dataset, which for centered data is given by:\n",
    "\n",
    "$$\n",
    "C = A^TA\n",
    "$$\n",
    "\n",
    "Where\n",
    "* A is the data matrix of size (n, p),\n",
    "* Rows identify n data points,\n",
    "* Columns identify p features."
   ]
  },
  {
   "cell_type": "code",
   "execution_count": 23,
   "metadata": {
    "slideshow": {
     "slide_type": "fragment"
    }
   },
   "outputs": [
    {
     "data": {
      "text/plain": [
       "array([[0.77238497, 0.7962991 ],\n",
       "       [0.7962991 , 0.93501684]])"
      ]
     },
     "execution_count": 23,
     "metadata": {},
     "output_type": "execute_result"
    }
   ],
   "source": [
    "# Compute the correlation matrix\n",
    "C = np.dot(A.T, A)\n",
    "C"
   ]
  },
  {
   "cell_type": "markdown",
   "metadata": {
    "slideshow": {
     "slide_type": "slide"
    }
   },
   "source": [
    "$C$ is a square matrix of size p and rank p. Therefore, it can be decomposed as follows:\n",
    "\n",
    "$$\n",
    "C = E \\Lambda E^T\n",
    "$$\n",
    "\n",
    "Where:\n",
    "* $\\Lambda$ is a diagonal matrix containing the eigen values of $C$\n",
    "* $E$ is the matrix of eigen vectors\n",
    "\n",
    "This is obtained as follows in Numpy:"
   ]
  },
  {
   "cell_type": "code",
   "execution_count": 24,
   "metadata": {
    "slideshow": {
     "slide_type": "fragment"
    }
   },
   "outputs": [
    {
     "data": {
      "text/plain": [
       "(array([0.05326069, 1.65414112]),\n",
       " array([[-0.74215531, -0.67022794],\n",
       "        [ 0.67022794, -0.74215531]]))"
      ]
     },
     "execution_count": 24,
     "metadata": {},
     "output_type": "execute_result"
    }
   ],
   "source": [
    "# Get the eigen vectors and values\n",
    "from numpy.linalg import eig\n",
    "eigen_vals, eigen_vects = eig(C)\n",
    "eigen_vals, eigen_vects"
   ]
  },
  {
   "cell_type": "markdown",
   "metadata": {
    "slideshow": {
     "slide_type": "slide"
    }
   },
   "source": [
    "The eigenvalues of $C$ represent the amount of variance explained by the PCA components:"
   ]
  },
  {
   "cell_type": "code",
   "execution_count": 25,
   "metadata": {
    "slideshow": {
     "slide_type": "fragment"
    }
   },
   "outputs": [
    {
     "data": {
      "text/plain": [
       "[0.03119400035175638, 0.9688059996482435]"
      ]
     },
     "execution_count": 25,
     "metadata": {},
     "output_type": "execute_result"
    }
   ],
   "source": [
    "s = sum(eigen_vals)\n",
    "explained_variance_ratio = [x/s for x in eigen_vals]\n",
    "explained_variance_ratio"
   ]
  },
  {
   "cell_type": "code",
   "execution_count": 26,
   "metadata": {
    "slideshow": {
     "slide_type": "fragment"
    }
   },
   "outputs": [
    {
     "data": {
      "text/plain": [
       "array([0.968806, 0.031194])"
      ]
     },
     "execution_count": 26,
     "metadata": {},
     "output_type": "execute_result"
    }
   ],
   "source": [
    "pca_2d.explained_variance_ratio_"
   ]
  },
  {
   "cell_type": "markdown",
   "metadata": {
    "slideshow": {
     "slide_type": "fragment"
    }
   },
   "source": [
    "The eigenvalues of $C$ are also the squares of the singular values returned by sklearn:"
   ]
  },
  {
   "cell_type": "code",
   "execution_count": 27,
   "metadata": {
    "slideshow": {
     "slide_type": "fragment"
    }
   },
   "outputs": [
    {
     "data": {
      "text/plain": [
       "array([0.05326069, 1.65414112])"
      ]
     },
     "execution_count": 27,
     "metadata": {},
     "output_type": "execute_result"
    }
   ],
   "source": [
    "eigen_vals"
   ]
  },
  {
   "cell_type": "code",
   "execution_count": 28,
   "metadata": {
    "slideshow": {
     "slide_type": "fragment"
    }
   },
   "outputs": [
    {
     "data": {
      "text/plain": [
       "array([1.65414112, 0.05326069])"
      ]
     },
     "execution_count": 28,
     "metadata": {},
     "output_type": "execute_result"
    }
   ],
   "source": [
    "pca_2d.singular_values_**2"
   ]
  },
  {
   "cell_type": "markdown",
   "metadata": {
    "slideshow": {
     "slide_type": "slide"
    }
   },
   "source": [
    "Finally the eigenvectors are the components themselves:"
   ]
  },
  {
   "cell_type": "code",
   "execution_count": 29,
   "metadata": {
    "scrolled": true,
    "slideshow": {
     "slide_type": "fragment"
    }
   },
   "outputs": [
    {
     "data": {
      "text/plain": [
       "array([[-0.67022794, -0.74215531],\n",
       "       [-0.74215531,  0.67022794]])"
      ]
     },
     "execution_count": 29,
     "metadata": {},
     "output_type": "execute_result"
    }
   ],
   "source": [
    "pca_2d.components_"
   ]
  },
  {
   "cell_type": "code",
   "execution_count": 30,
   "metadata": {
    "slideshow": {
     "slide_type": "fragment"
    }
   },
   "outputs": [
    {
     "data": {
      "text/plain": [
       "array([[-0.67022794, -0.74215531],\n",
       "       [-0.74215531,  0.67022794]])"
      ]
     },
     "execution_count": 30,
     "metadata": {},
     "output_type": "execute_result"
    }
   ],
   "source": [
    "eigen_vects_sorted = np.array([eigen_vects[:,i] for i in reversed(np.argsort(eigen_vals))])\n",
    "eigen_vects_sorted"
   ]
  },
  {
   "cell_type": "markdown",
   "metadata": {
    "slideshow": {
     "slide_type": "slide"
    }
   },
   "source": [
    "## Apply PCA"
   ]
  },
  {
   "cell_type": "markdown",
   "metadata": {
    "slideshow": {
     "slide_type": "fragment"
    }
   },
   "source": [
    "The matrix $E$ of eigen vectors defines a linear transformation from the native data space to the PCA space:\n",
    "\n",
    "$$\n",
    "T = A E\n",
    "$$\n",
    "\n",
    "Where T is the transformed data matrix"
   ]
  },
  {
   "cell_type": "code",
   "execution_count": 31,
   "metadata": {
    "slideshow": {
     "slide_type": "fragment"
    }
   },
   "outputs": [],
   "source": [
    "transformed = np.dot(A, eigen_vects_sorted)"
   ]
  },
  {
   "cell_type": "code",
   "execution_count": 34,
   "metadata": {
    "scrolled": false,
    "slideshow": {
     "slide_type": "fragment"
    }
   },
   "outputs": [
    {
     "data": {
      "image/png": "[encoded data removed]",
      "text/plain": [
       "<Figure size 432x288 with 1 Axes>"
      ]
     },
     "metadata": {
      "needs_background": "light"
     },
     "output_type": "display_data"
    }
   ],
   "source": [
    "from matplotlib import pyplot as plt\n",
    "plt.clf()\n",
    "plt.scatter(transformed[:,0], transformed[:,1])  ### why - sign?\n",
    "plt.scatter(transformed_data_2d[:,0], transformed_data_2d[:,1])\n",
    "\n",
    "plt.xlim(-1, 1)\n",
    "plt.ylim(-1, 1)\n",
    "plt.show()"
   ]
  },
  {
   "cell_type": "markdown",
   "metadata": {
    "slideshow": {
     "slide_type": "slide"
    }
   },
   "source": [
    "# Apply PCA with Spark"
   ]
  },
  {
   "cell_type": "code",
   "execution_count": 35,
   "metadata": {
    "slideshow": {
     "slide_type": "fragment"
    }
   },
   "outputs": [],
   "source": [
    "from pyspark.sql import SparkSession\n",
    "spark = SparkSession \\\n",
    "        .builder \\\n",
    "        .appName(\"Python Spark SQL basic example\") \\\n",
    "        .getOrCreate()"
   ]
  },
  {
   "cell_type": "code",
   "execution_count": 36,
   "metadata": {
    "slideshow": {
     "slide_type": "fragment"
    }
   },
   "outputs": [
    {
     "name": "stdout",
     "output_type": "stream",
     "text": [
      "+-------------------+--------------------+--------------------+--------------------+--------------------+-------------------+-------------------+--------------------+--------------------+--------------------+--------------------+----------------------------+--------------------+\n",
      "|            alcohol|          malic_acid|                 ash|   alcalinity_of_ash|           magnesium|      total_phenols|         flavanoids|nonflavanoid_phenols|     proanthocyanins|     color_intensity|                 hue|od280/od315_of_diluted_wines|             proline|\n",
      "+-------------------+--------------------+--------------------+--------------------+--------------------+-------------------+-------------------+--------------------+--------------------+--------------------+--------------------+----------------------------+--------------------+\n",
      "| 1.5143407672921458|  -0.560668220516758| 0.23139978993797622| -1.1663031736391336|    1.90852150727848| 0.8067217293796732| 1.0319080692191864| -0.6577077994784339|  1.2214384526666515| 0.25100878414105393| 0.36115849098751834|          1.8427214702277643|  1.0101593882569206|\n",
      "|0.24559682781702463|-0.49800855572494873| -0.8256672150707416|  -2.483840524849532| 0.01809397966504739| 0.5670480877368862| 0.7315652834977903| -0.8184105974292387| -0.5431887172177177| -0.2924962319204507|  0.4049084647154195|          1.1103172307727587|  0.9625263492684181|\n",
      "|0.19632521851702103| 0.02117152397861313|  1.1062138630486382| -0.2679822523593159| 0.08810981402110045| 0.8067217293796732|  1.212113740652024| -0.4970050015276296|  2.1299593718150396| 0.26826291163506993| 0.31740851725961716|          0.7863692017830448|  1.3912237001649408|\n",
      "| 1.6867913998421606|-0.34583508408769786|  0.4865538945952523| -0.8069748051272064|  0.9282998262937372| 2.4844372208791836|  1.462399395419854| -0.9791133953800435|  1.0292513351544927|  1.1827316688179192| -0.4263410361147025|          1.1807407153357405|  2.3280068002721572|\n",
      "| 0.2948684371170304| 0.22705327972312908|  1.8352255906408579|  0.4506744846645374|  1.2783789980740026| 0.8067217293796732|  0.661485300162798| 0.22615758925099147| 0.40027531420560847| -0.3183774231614746| 0.36115849098751834|           0.448336475880735|-0.03776746949013488|\n",
      "|  1.477387060317141| -0.5159113170940371|  0.3043009626971982| -1.2860792964764427|  0.8582839919376841| 1.5576991398604065| 1.3622851335127217|-0.17559940562602003|  0.6623486562676434|  0.7298108220999987|  0.4049084647154195|         0.33565890057996484|  2.2327407222951523|\n",
      "| 1.7114272044921648| -0.4174461295640511|  0.3043009626971982|  -1.465743480732406|-0.26196935775916486|0.32737444609409916|0.49129105492067376| -0.4970050015276296|  0.6798202124051124| 0.08278104107439782|   0.273658543531716|          1.3638417751994916|  1.7246549730844585|\n",
      "| 1.3049364277671263|-0.16680747039681446|  0.8875103447709723| -0.5674225594525882|  1.4884265011421618| 0.4871568738559574|0.48127962872996033| -0.4166536025522272| -0.5956033856301247|-0.00348959639568...|  0.4486584384433207|          1.3638417751994916|  1.7405326527472926|\n",
      "| 2.2534149067922153| -0.6233278853085673| -0.7163154559319095| -1.6454076649883693| -0.1919535234031118| 0.8067217293796732| 0.9518166596934807| -0.5773564005030319|  0.6798202124051124| 0.06121338170687787|   0.536158385899123|         0.33565890057996484|  0.9466486696055839|\n",
      "| 1.0585783812671017| -0.8829179251603481| -0.3518095921357996| -1.0465270508018245|-0.12193768904705875|  1.094330099351018| 1.1220109049356048|  -1.139816193330848|  0.4526899826180155|  0.9325468201546868| 0.22990856980381477|          1.3215876844617025|  0.9466486696055839|\n",
      "| 1.3542080370671299|-0.15785608971227008| -0.2424578329969674|-0.44764643661527975|  0.3681731514453127|  1.046395371022461| 1.2922051501777292|  -1.139816193330848|  1.3786824579038723| 0.29845763474959813|  1.2799079392734423|          0.7863692017830448|   2.423272878249162|\n",
      "| 1.3788438417171316|  -0.766549976261274|-0.16955666023774546| -0.8069748051272064|-0.33198519211521793|-0.1519728371914749| 0.4011882192042552| -0.8184105974292387|-0.03651358923111656|-0.02505725576320232|  0.9299081494502327|          0.2934048098421757|  1.6928996137587902|\n",
      "| 0.9230814556920895| -0.5427654591476696| 0.15849861717875424| -1.0465270508018245| -0.7520801982515363| 0.4871568738559574| 0.7315652834977903| -0.5773564005030319|  0.3828037580681395| 0.23375465664703787|  0.8424082019944303|         0.40608238514294587|  1.8199210510614636|\n",
      "|  2.154871688192206| -0.5427654591476696| 0.08559744441953226| -2.4239524634308776| -0.6120485295394302| 1.2860690126652479| 1.6626279192341176|  0.5475631851526006|  2.1299593718150396| 0.14748401917695805|  1.2799079392734423|         0.16664253762880957|  1.2800799425251017|\n",
      "| 1.6991093021671637| -0.4174461295640511| 0.04914685803992047|  -2.244288279174914|  0.1581256483771535| 1.6056338681889637| 1.6125707882805518| -0.5773564005030319|  2.3920327138770747|   1.053325712612799|  1.0611580706339363|          0.5469293542689085|   2.540767707754135|\n",
      "| 0.7752666277920766| -0.4711544136713162|   1.215565622187472| -0.6871986822898979|  0.8582839919376841| 0.8866129432606027| 0.8817366763584885| -0.4970050015276296|-0.22870070674327575|  0.9670550751427189|  1.4111578604571458|          0.3779129913177533|   1.788165691735795|\n",
      "| 1.6005660835671545|-0.37268922614133043|   1.288466794946694|   0.151234177571265|  1.4184106667861087| 0.8067217293796732|  1.111999478744892|-0.25595080460142244|  0.6623486562676434| 0.49256656905727847|  0.4924084121712219|         0.05396496232803941|  1.6928996137587902|\n",
      "|  1.021624674292099| -0.6859875501003764|  0.9239609311505842|   0.151234177571265|  1.0683314950058433|  1.046395371022461|  1.372296559703435| 0.30650898822639383|  0.2255597528309183|  0.6651078439974385|   0.754908254538628|        -0.05871261297273...|  1.2165692238737649|\n",
      "|   1.46506915799214|  -0.668084788731288| 0.41365272183603036| -0.8968068972551884|  0.5782206545134719| 1.6056338681889637| 1.9029021478112345|-0.33630220357682483| 0.47016153875548455|  1.5709495374332796|  1.1924079918176398|          0.2934048098421757|  2.9631139867855243|\n",
      "| 0.7875845301170774|   0.683573694634882|  0.7052574128729182| -1.2860792964764427|  1.1383473293618964| 0.6469393016178157| 1.0018737906470465| -1.5415731882078596| 0.12073041600610421|0.018078062971837585|0.011158701164308855|          1.0539784431223738| 0.31154148309221696|\n",
      "+-------------------+--------------------+--------------------+--------------------+--------------------+-------------------+-------------------+--------------------+--------------------+--------------------+--------------------+----------------------------+--------------------+\n",
      "only showing top 20 rows\n",
      "\n"
     ]
    }
   ],
   "source": [
    "df = spark.createDataFrame(wine_data_norm)\n",
    "df.show()"
   ]
  },
  {
   "cell_type": "code",
   "execution_count": 37,
   "metadata": {
    "slideshow": {
     "slide_type": "slide"
    }
   },
   "outputs": [],
   "source": [
    "from pyspark.ml.feature import PCA\n",
    "pca = PCA(k=7, inputCol='features', outputCol='output')"
   ]
  },
  {
   "cell_type": "code",
   "execution_count": 38,
   "metadata": {
    "slideshow": {
     "slide_type": "fragment"
    }
   },
   "outputs": [],
   "source": [
    "from pyspark.ml.feature import VectorAssembler\n",
    "\n",
    "assembler = VectorAssembler(\n",
    "    inputCols=list(wine_data_norm.columns), outputCol=\"features\")\n",
    "\n",
    "final_df = assembler.transform(df)"
   ]
  },
  {
   "cell_type": "code",
   "execution_count": 39,
   "metadata": {
    "slideshow": {
     "slide_type": "fragment"
    }
   },
   "outputs": [],
   "source": [
    "model = pca.fit(final_df)"
   ]
  },
  {
   "cell_type": "code",
   "execution_count": 40,
   "metadata": {
    "slideshow": {
     "slide_type": "fragment"
    }
   },
   "outputs": [
    {
     "data": {
      "text/plain": [
       "DenseVector([0.362, 0.1921, 0.1112, 0.0707, 0.0656, 0.0494, 0.0424])"
      ]
     },
     "execution_count": 40,
     "metadata": {},
     "output_type": "execute_result"
    }
   ],
   "source": [
    "model.explainedVariance"
   ]
  },
  {
   "cell_type": "code",
   "execution_count": 41,
   "metadata": {
    "slideshow": {
     "slide_type": "fragment"
    }
   },
   "outputs": [
    {
     "data": {
      "text/plain": [
       "array([0.36198848, 0.1920749 , 0.11123631, 0.0706903 , 0.06563294,\n",
       "       0.04935823, 0.04238679])"
      ]
     },
     "execution_count": 41,
     "metadata": {},
     "output_type": "execute_result"
    }
   ],
   "source": [
    "pca_wine.explained_variance_ratio_"
   ]
  },
  {
   "cell_type": "code",
   "execution_count": 42,
   "metadata": {
    "slideshow": {
     "slide_type": "slide"
    }
   },
   "outputs": [
    {
     "name": "stdout",
     "output_type": "stream",
     "text": [
      "+-----------------------------------------------------------------------------------------------------------------------------------------------+\n",
      "|                                                                                                                                         output|\n",
      "+-----------------------------------------------------------------------------------------------------------------------------------------------+\n",
      "|   [-3.3074209742892196,-1.4394022531822928,0.16527282978197488,-0.21502462886792395,0.6910933491309081,0.22325036575090662,0.5947488306815295]|\n",
      "|    [-2.203249813420225,0.33245507119418033,2.0207570604794953,-0.29053874322891826,-0.2569298661710212,0.9245123057914455,0.05362434498857224]|\n",
      "|     [-2.509660694761863,-1.0282507242941945,-0.9800540552552994,0.7228631990496862,-0.2503269758057909,-0.5477309633081155,0.4230121843493197]|\n",
      "|     [-3.746497190498,-2.7486183908585353,0.17569622422136086,0.5663856019167703,-0.31096439791832575,-0.11410911207014074,-0.3822589902792066]|\n",
      "|     [-1.0060704895977037,-0.8673840350754063,-2.020987256551846,-0.4086131396933916,0.29761795846867695,0.4053760832003344,0.4428253058240375]|\n",
      "|    [-3.0416737256112683,-2.116430916831077,0.6276253711399884,-0.5141870345752505,-0.6302408997615517,-0.12308335405192139,0.4005239281721472]|\n",
      "|    [-2.4422005148251387,-1.171545342735354,0.9743463764348996,-0.06564532699524339,-1.0248708712061032,0.6183763769562423,0.05274194975481189]|\n",
      "|   [-2.0536437885938037,-1.6044371435937732,-0.14587040015624195,-1.1892532694404836,0.07668716850435942,1.435756121135641,0.03228452156233001]|\n",
      "|    [-2.5038113458622293,-0.9154884741383137,1.7659873885920077,0.05611207579346361,-0.8897471068353398,0.1288176687063997,0.12493265131002912]|\n",
      "|    [-2.745882382732541,-0.7872170290019025,0.9814788553712244,0.3483987771430886,-0.4672350614657258,-0.16293203859960526,-0.8718927400564334]|\n",
      "|     [-3.4699483745007775,-1.2986698452333503,0.4215460856272682,0.02676625557655521,-0.3374229485548127,0.1823871392117229,0.2474643166009096]|\n",
      "|      [-1.7498168777295429,-0.6102557704023343,1.18752844430331,-0.8876603544925141,-0.7364950947296912,0.5514995363688691,-0.4330446734643963]|\n",
      "|     [-2.107517286793351,-0.6738056143108792,0.862652984999751,-0.3554353694580746,-1.2065252603655534,0.21447112037912053,-0.2419147637129788]|\n",
      "|      [-3.4484292140771555,-1.1274494764095193,1.2008887892803852,0.1620010772482518,-2.0174358633910323,-0.7436829854158389,1.471622149613513]|\n",
      "|       [-4.300652282433131,-2.0900797111292606,1.2603574351818931,0.30491306651048256,-1.0267961441431401,-0.79340481312921,0.9971580839472862]|\n",
      "| [-2.2987038329874867,-1.6578750632565025,-0.21728966750242298,-1.4365377266781256,-0.468229284942537,0.42102573960758244,-0.18045845058820614]|\n",
      "|[-2.1658456828096475,-2.320758754063517,-0.8293902555398667,-0.9100341775815228,-1.1461709259091846E-4,0.06634216266229456,0.10917979866593314]|\n",
      "| [-1.8936294749078209,-1.6267799275589994,-0.7926777435285598,-1.0793357115710354,-0.4374711601650755,-0.36390428235794714,0.09138877248608776]|\n",
      "| [-3.5320216723838556,-2.511259706836822,0.48409293953876914,-0.9077621189593906,-1.149835789457339,-0.30302223142791324,-0.033370080306373034]|\n",
      "|      [-2.0786585582209836,-1.05815307067065,0.16428325513842473,0.4836331481416539,0.8800288984114285,1.3890992216187525,-0.10218393234713517]|\n",
      "+-----------------------------------------------------------------------------------------------------------------------------------------------+\n",
      "only showing top 20 rows\n",
      "\n"
     ]
    }
   ],
   "source": [
    "model.transform(final_df).select('output').show(truncate=200)"
   ]
  },
  {
   "cell_type": "markdown",
   "metadata": {
    "slideshow": {
     "slide_type": "slide"
    }
   },
   "source": [
    "# Conclusion\n",
    "\n",
    "Other approaches to dimensionality reduction\n",
    "* Singular Value Decomposition (SVD): very similar to PCA\n",
    "* CUR decomposition (preserves sparsity)\n",
    "* tSNE\n",
    "* min-hashing (for categorical variables)"
   ]
  },
  {
   "cell_type": "code",
   "execution_count": null,
   "metadata": {},
   "outputs": [],
   "source": []
  }
 ],
 "metadata": {
  "celltoolbar": "Slideshow",
  "kernelspec": {
   "display_name": "Python 3.8.9 64-bit",
   "language": "python",
   "name": "python38964bitc399adc8f8ec440ba2e333c1f6098275"
  },
  "language_info": {
   "codemirror_mode": {
    "name": "ipython",
    "version": 3
   },
   "file_extension": ".py",
   "mimetype": "text/x-python",
   "name": "python",
   "nbconvert_exporter": "python",
   "pygments_lexer": "ipython3",
   "version": "3.8.9"
  },
  "toc": {
   "base_numbering": 1,
   "nav_menu": {},
   "number_sections": true,
   "sideBar": true,
   "skip_h1_title": false,
   "title_cell": "Table of Contents",
   "title_sidebar": "Contents",
   "toc_cell": false,
   "toc_position": {},
   "toc_section_display": true,
   "toc_window_display": false
  }
 },
 "nbformat": 4,
 "nbformat_minor": 4
}
